{
 "cells": [
  {
   "cell_type": "code",
   "execution_count": 25,
   "metadata": {},
   "outputs": [],
   "source": [
    "# General\n",
    "import os\n",
    "import re\n",
    "import sklearn\n",
    "import nltk\n",
    "import numpy as np\n",
    "import pandas as pd\n",
    "import contractions\n",
    "# Preprocessing\n",
    "from nltk.tokenize import word_tokenize\n",
    "from nltk.corpus import stopwords\n",
    "from sklearn.feature_extraction.text import TfidfVectorizer\n",
    "# models\n",
    "from sklearn.decomposition import PCA\n",
    "from sklearn.manifold import TSNE\n",
    "from sklearn.utils import shuffle\n",
    "import fastcluster\n",
    "from scipy.cluster.hierarchy import dendrogram, cophenet\n",
    "from scipy.spatial.distance import pdist\n",
    "# Plots\n",
    "import matplotlib.pyplot as plt\n",
    "import matplotlib.cm as cm\n",
    "import seaborn\n",
    "import seaborn as sns\n",
    "# Enable inline plotting  \n",
    "%matplotlib inline"
   ]
  },
  {
   "cell_type": "code",
   "execution_count": 26,
   "metadata": {},
   "outputs": [],
   "source": [
    "data1 = pd.read_csv('train/tweet_global_warming.csv',error_bad_lines=False,engine='python')\n",
    "data2 = pd.read_csv('train/weather-evaluated-agg-DFE.csv',encoding='utf-8')\n",
    "data3 = pd.read_csv('train/sentiment_nuclear_power.csv',error_bad_lines=False,engine='python')"
   ]
  },
  {
   "cell_type": "code",
   "execution_count": 27,
   "metadata": {},
   "outputs": [],
   "source": [
    "data = pd.concat([data1['tweet'],data2['tweet_text'],data3['tweet_text']],axis=0)\n",
    "data = shuffle(data)\n",
    "data.index = range(len(data))"
   ]
  },
  {
   "cell_type": "code",
   "execution_count": 28,
   "metadata": {},
   "outputs": [
    {
     "data": {
      "text/plain": [
       "0    BLOG UPDATE: {link} What's the difference betw...\n",
       "1    Stossel Show - Global Warming! The high cost t...\n",
       "2    Today, give a stranger one of your smiles. It ...\n",
       "3    C3: New Mexico's Democrats/Liberals Push Globa...\n",
       "4    Panel Debates Business Cost Of Calif. Global W...\n",
       "dtype: object"
      ]
     },
     "execution_count": 28,
     "metadata": {},
     "output_type": "execute_result"
    }
   ],
   "source": [
    "data.head()"
   ]
  },
  {
   "cell_type": "markdown",
   "metadata": {},
   "source": [
    "## Preprocess"
   ]
  },
  {
   "cell_type": "code",
   "execution_count": 29,
   "metadata": {},
   "outputs": [],
   "source": [
    "stopword = stopwords.words('english') "
   ]
  },
  {
   "cell_type": "code",
   "execution_count": 30,
   "metadata": {},
   "outputs": [],
   "source": [
    "def stemming(words):\n",
    "    ps = nltk.stem.SnowballStemmer('english')\n",
    "    new = []\n",
    "    stem_words = [ps.stem(x) for x in words]\n",
    "    return stem_words"
   ]
  },
  {
   "cell_type": "code",
   "execution_count": 31,
   "metadata": {},
   "outputs": [],
   "source": [
    "def preprocess(sentence):\n",
    "    sentence = contractions.fix(sentence)             # Replace contractions in string \n",
    "    sentence = re.sub('@\\w+',\"\",str(sentence))        # remove mentions\n",
    "    sentence = re.sub('#\\w+',\"\",str(sentence))        # remove hashtags\n",
    "    sentence = re.sub('http\\S+',\"\",str(sentence))     # remove URLs\n",
    "    sentence = re.sub('[^\\w\\s]',\" \",str(sentence))    # remove punc\n",
    "    sentence = re.sub('[^a-zA-Z]',\" \",str(sentence))  # remove numbers\n",
    "  \n",
    "    sents = word_tokenize(sentence)                   # Tokenization\n",
    "    sents = stemming(sents)\n",
    "            \n",
    "    new_sents = \"\"\n",
    "    for i in range(len(sents)):                       # remove stopwords            \n",
    "        if(sents[i].lower() not in stopword and sents[i]!='rt' and len(sents[i])>1):\n",
    "            new_sents += sents[i].lower()+\" \"\n",
    "    new_sents.strip()\n",
    "    \n",
    "    return new_sents"
   ]
  },
  {
   "cell_type": "code",
   "execution_count": 32,
   "metadata": {},
   "outputs": [],
   "source": [
    "def preprocessing(xtrain):\n",
    "    corpus = xtrain.apply(preprocess)\n",
    "    return corpus"
   ]
  },
  {
   "cell_type": "code",
   "execution_count": 33,
   "metadata": {},
   "outputs": [],
   "source": [
    "corpus = preprocessing(data)\n",
    "corpus = corpus.drop_duplicates() "
   ]
  },
  {
   "cell_type": "markdown",
   "metadata": {},
   "source": [
    "## Feature Extraction"
   ]
  },
  {
   "cell_type": "code",
   "execution_count": 34,
   "metadata": {},
   "outputs": [],
   "source": [
    "def featureextraction(corpus):\n",
    "    \n",
    "    vectorizer = TfidfVectorizer(max_df=.5,min_df=1,max_features=None,ngram_range=(1, 2),norm=None,binary=True,\n",
    "                             use_idf=False,sublinear_tf=False,strip_accents = 'unicode',stop_words = 'english')\n",
    "    vectorizer = vectorizer.fit(corpus)\n",
    "    tfidf = vectorizer.transform(corpus)\n",
    "    vocab = vectorizer.get_feature_names()\n",
    "\n",
    "    return tfidf, vocab"
   ]
  },
  {
   "cell_type": "code",
   "execution_count": 35,
   "metadata": {},
   "outputs": [],
   "source": [
    "tfidf, vocab = featureextraction(corpus)"
   ]
  },
  {
   "cell_type": "markdown",
   "metadata": {},
   "source": [
    "## Agglomerative Hierarchical Clustering"
   ]
  },
  {
   "cell_type": "markdown",
   "metadata": {},
   "source": [
    "__Pros__:\n",
    "1) No assumption of a particular number of clusters (i.e. k-means)<br>\n",
    "2) May correspond to meaningful taxonomies<br>\n",
    "__Cons__:\n",
    "1) Too slow for large data sets, O(𝑛2 log(𝑛))"
   ]
  },
  {
   "cell_type": "markdown",
   "metadata": {},
   "source": [
    "The version of hierarchical clustering we will explore is called agglomerative clustering. Although Scikit-Learn has a library for this, it performs very slowly. Instead, we will choose to use another version of hierarchical clustering called fastcluster. This package is a C++ library with an interface in Python/SciPy.<br>\n",
    "For more information, look here:<br>\n",
    "http://danifold.net/fastcluster.html?section=1\n",
    "\n",
    "User Manual:<br>\n",
    "https://cran.r-project.org/web/packages/fastcluster/vignettes/fastcluster.pdf"
   ]
  },
  {
   "cell_type": "code",
   "execution_count": 37,
   "metadata": {},
   "outputs": [],
   "source": [
    "pca = PCA(n_components=None).fit(tfidf.todense())\n",
    "reduc = pca.transform(tfidf.todense())"
   ]
  },
  {
   "cell_type": "code",
   "execution_count": 44,
   "metadata": {},
   "outputs": [],
   "source": [
    "def pca_variance(pca,reduc,plot_var):\n",
    "    var_exp = pca.explained_variance_ratio_*100\n",
    "    cum_var_exp = np.cumsum(pca.explained_variance_ratio_)*100\n",
    "    \n",
    "    if plot_var:\n",
    "        with plt.style.context('seaborn-whitegrid'):\n",
    "            fig, ax = plt.subplots(figsize=(6, 4))\n",
    "            plt.bar(range(len(var_exp)), var_exp, alpha=0.5, align='center',\n",
    "                    label='individual explained variance')\n",
    "#             plt.step(range(len(cum_var_exp)), cum_var_exp, where='mid',\n",
    "#                      label='cumulative explained variance')\n",
    "            plt.ylabel('Explained variance ratio')\n",
    "            plt.xlabel('Principal components')\n",
    "            plt.xticks(range(len(var_exp)))\n",
    "            ax.set_xticklabels(np.arange(1, reduc.shape[1] + 1))\n",
    "            plt.legend(loc='best')\n",
    "            plt.tight_layout()\n",
    "            plt.ylim([0,1])\n",
    "            plt.xlim([0,100])\n",
    "        \n",
    "    return var_exp"
   ]
  },
  {
   "cell_type": "code",
   "execution_count": 45,
   "metadata": {},
   "outputs": [
    {
     "data": {
      "text/plain": [
       "array([7.19812670e+00, 2.01922930e+00, 9.66340359e-01, ...,\n",
       "       1.23225099e-33, 6.75814744e-34, 6.73598687e-35])"
      ]
     },
     "execution_count": 45,
     "metadata": {},
     "output_type": "execute_result"
    },
    {
     "data": {
      "image/png": "[encoded data removed]",
      "text/plain": [
       "<Figure size 432x288 with 1 Axes>"
      ]
     },
     "metadata": {},
     "output_type": "display_data"
    }
   ],
   "source": [
    "pca_variance(pca,reduc,True)"
   ]
  },
  {
   "cell_type": "code",
   "execution_count": 36,
   "metadata": {
    "collapsed": true,
    "jupyter": {
     "outputs_hidden": true
    }
   },
   "outputs": [
    {
     "name": "stderr",
     "output_type": "stream",
     "text": [
      "ERROR:root:Internal Python error in the inspect module.\n",
      "Below is the traceback from this internal error.\n",
      "\n"
     ]
    },
    {
     "name": "stdout",
     "output_type": "stream",
     "text": [
      "Traceback (most recent call last):\n",
      "  File \"/Users/mahzadkhoshlessan/miniconda3/envs/omdena/lib/python3.8/site-packages/IPython/core/interactiveshell.py\", line 3331, in run_code\n",
      "    exec(code_obj, self.user_global_ns, self.user_ns)\n",
      "  File \"<ipython-input-36-140304e8428e>\", line 1, in <module>\n",
      "    pca = PCA(n_components=50).fit_transform(tfidf.todense())\n",
      "  File \"/Users/mahzadkhoshlessan/miniconda3/envs/omdena/lib/python3.8/site-packages/sklearn/decomposition/_pca.py\", line 369, in fit_transform\n",
      "    U, S, V = self._fit(X)\n",
      "  File \"/Users/mahzadkhoshlessan/miniconda3/envs/omdena/lib/python3.8/site-packages/sklearn/decomposition/_pca.py\", line 418, in _fit\n",
      "    return self._fit_truncated(X, n_components, self._fit_svd_solver)\n",
      "  File \"/Users/mahzadkhoshlessan/miniconda3/envs/omdena/lib/python3.8/site-packages/sklearn/decomposition/_pca.py\", line 543, in _fit_truncated\n",
      "    total_var = np.var(X, ddof=1, axis=0)\n",
      "  File \"<__array_function__ internals>\", line 5, in var\n",
      "  File \"/Users/mahzadkhoshlessan/miniconda3/envs/omdena/lib/python3.8/site-packages/numpy/core/fromnumeric.py\", line 3583, in var\n",
      "    return _methods._var(a, axis=axis, dtype=dtype, out=out, ddof=ddof,\n",
      "  File \"/Users/mahzadkhoshlessan/miniconda3/envs/omdena/lib/python3.8/site-packages/numpy/core/_methods.py\", line 195, in _var\n",
      "    x = um.multiply(x, x, out=x)\n",
      "KeyboardInterrupt\n",
      "\n",
      "During handling of the above exception, another exception occurred:\n",
      "\n",
      "Traceback (most recent call last):\n",
      "  File \"/Users/mahzadkhoshlessan/miniconda3/envs/omdena/lib/python3.8/site-packages/IPython/core/interactiveshell.py\", line 2044, in showtraceback\n",
      "    stb = value._render_traceback_()\n",
      "AttributeError: 'KeyboardInterrupt' object has no attribute '_render_traceback_'\n",
      "\n",
      "During handling of the above exception, another exception occurred:\n",
      "\n",
      "Traceback (most recent call last):\n",
      "  File \"/Users/mahzadkhoshlessan/miniconda3/envs/omdena/lib/python3.8/site-packages/IPython/core/ultratb.py\", line 1148, in get_records\n",
      "    return _fixed_getinnerframes(etb, number_of_lines_of_context, tb_offset)\n",
      "  File \"/Users/mahzadkhoshlessan/miniconda3/envs/omdena/lib/python3.8/site-packages/IPython/core/ultratb.py\", line 316, in wrapped\n",
      "    return f(*args, **kwargs)\n",
      "  File \"/Users/mahzadkhoshlessan/miniconda3/envs/omdena/lib/python3.8/site-packages/IPython/core/ultratb.py\", line 350, in _fixed_getinnerframes\n",
      "    records = fix_frame_records_filenames(inspect.getinnerframes(etb, context))\n",
      "  File \"/Users/mahzadkhoshlessan/miniconda3/envs/omdena/lib/python3.8/inspect.py\", line 1503, in getinnerframes\n",
      "    frameinfo = (tb.tb_frame,) + getframeinfo(tb, context)\n",
      "  File \"/Users/mahzadkhoshlessan/miniconda3/envs/omdena/lib/python3.8/inspect.py\", line 1461, in getframeinfo\n",
      "    filename = getsourcefile(frame) or getfile(frame)\n",
      "  File \"/Users/mahzadkhoshlessan/miniconda3/envs/omdena/lib/python3.8/inspect.py\", line 708, in getsourcefile\n",
      "    if getattr(getmodule(object, filename), '__loader__', None) is not None:\n",
      "  File \"/Users/mahzadkhoshlessan/miniconda3/envs/omdena/lib/python3.8/inspect.py\", line 744, in getmodule\n",
      "    for modname, module in list(sys.modules.items()):\n",
      "KeyboardInterrupt\n"
     ]
    },
    {
     "ename": "KeyboardInterrupt",
     "evalue": "",
     "output_type": "error",
     "traceback": [
      "\u001b[0;31m---------------------------------------------------------------------------\u001b[0m"
     ]
    }
   ],
   "source": [
    "pca = PCA(n_components=50).fit_transform(tfidf.todense())"
   ]
  },
  {
   "cell_type": "code",
   "execution_count": 14,
   "metadata": {},
   "outputs": [],
   "source": [
    "Z = fastcluster.linkage_vector(pca,method='ward', metric='euclidean')"
   ]
  },
  {
   "cell_type": "code",
   "execution_count": 17,
   "metadata": {},
   "outputs": [],
   "source": [
    "Z_dataFrame = pd.DataFrame(data=Z, \n",
    "    columns=['clusterOne','clusterTwo','distance','newClusterSize']) "
   ]
  },
  {
   "cell_type": "code",
   "execution_count": 15,
   "metadata": {},
   "outputs": [
    {
     "data": {
      "text/plain": [
       "array([[4.10200000e+03, 5.85400000e+03, 0.00000000e+00, 2.00000000e+00],\n",
       "       [2.06400000e+03, 3.46200000e+03, 0.00000000e+00, 2.00000000e+00],\n",
       "       [4.19100000e+03, 4.34300000e+03, 0.00000000e+00, 2.00000000e+00],\n",
       "       ...,\n",
       "       [1.19810000e+04, 1.20310000e+04, 3.05958559e+01, 2.44800000e+03],\n",
       "       [1.20330000e+04, 1.20340000e+04, 7.10513183e+01, 3.74600000e+03],\n",
       "       [1.20320000e+04, 1.20350000e+04, 1.07098773e+02, 6.01900000e+03]])"
      ]
     },
     "execution_count": 15,
     "metadata": {},
     "output_type": "execute_result"
    }
   ],
   "source": [
    "Z"
   ]
  },
  {
   "cell_type": "markdown",
   "metadata": {},
   "source": [
    "### Dendrograms "
   ]
  },
  {
   "cell_type": "markdown",
   "metadata": {},
   "source": [
    "We can use a dendrogram to visualize the history of groupings and figure out the optimal number of clusters. <br>\n",
    "1) Determine the largest vertical distance that doesn’t intersect any of the other clusters<br>\n",
    "2) Draw a horizontal line at both extremities<br>\n",
    "3) The optimal number of clusters is equal to the number of vertical lines going through the horizontal line"
   ]
  },
  {
   "cell_type": "code",
   "execution_count": 16,
   "metadata": {},
   "outputs": [
    {
     "data": {
      "image/png": "[encoded data removed]",
      "text/plain": [
       "<Figure size 432x288 with 1 Axes>"
      ]
     },
     "metadata": {
      "needs_background": "light"
     },
     "output_type": "display_data"
    }
   ],
   "source": [
    "dend = dendrogram(Z)"
   ]
  },
  {
   "cell_type": "markdown",
   "metadata": {},
   "source": [
    "Following the above procedures and the Dendogram above the optimum number of clusters is __three__."
   ]
  },
  {
   "cell_type": "code",
   "execution_count": 18,
   "metadata": {},
   "outputs": [],
   "source": [
    "from scipy.cluster.hierarchy import fcluster\n",
    "\n",
    "distance_threshold = 35\n",
    "clusters = fcluster(Z, distance_threshold, criterion='distance')"
   ]
  },
  {
   "cell_type": "code",
   "execution_count": 19,
   "metadata": {},
   "outputs": [
    {
     "data": {
      "text/plain": [
       "array([1, 3, 3, ..., 1, 1, 2], dtype=int32)"
      ]
     },
     "execution_count": 19,
     "metadata": {},
     "output_type": "execute_result"
    }
   ],
   "source": [
    "clusters"
   ]
  },
  {
   "cell_type": "code",
   "execution_count": 20,
   "metadata": {},
   "outputs": [
    {
     "data": {
      "text/plain": [
       "6019"
      ]
     },
     "execution_count": 20,
     "metadata": {},
     "output_type": "execute_result"
    }
   ],
   "source": [
    "len(clusters)"
   ]
  },
  {
   "cell_type": "code",
   "execution_count": 24,
   "metadata": {},
   "outputs": [
    {
     "data": {
      "text/plain": [
       "<matplotlib.collections.PathCollection at 0x178efc220>"
      ]
     },
     "execution_count": 24,
     "metadata": {},
     "output_type": "execute_result"
    },
    {
     "data": {
      "image/png": "[encoded data removed]",
      "text/plain": [
       "<Figure size 432x432 with 1 Axes>"
      ]
     },
     "metadata": {
      "needs_background": "light"
     },
     "output_type": "display_data"
    }
   ],
   "source": [
    "f, ax = plt.subplots(1, 1, figsize=(6, 6))\n",
    "tsne = TSNE().fit_transform(pca)\n",
    "max_label = max(clusters)\n",
    "label_subset = [cm.hsv(i/max_label) for i in clusters]\n",
    "ax.scatter(tsne[:, 0], tsne[:, 1], c=label_subset)"
   ]
  },
  {
   "cell_type": "code",
   "execution_count": null,
   "metadata": {},
   "outputs": [],
   "source": []
  }
 ],
 "metadata": {
  "kernelspec": {
   "display_name": "Python 3",
   "language": "python",
   "name": "python3"
  },
  "language_info": {
   "codemirror_mode": {
    "name": "ipython",
    "version": 3
   },
   "file_extension": ".py",
   "mimetype": "text/x-python",
   "name": "python",
   "nbconvert_exporter": "python",
   "pygments_lexer": "ipython3",
   "version": "3.8.2"
  }
 },
 "nbformat": 4,
 "nbformat_minor": 4
}
