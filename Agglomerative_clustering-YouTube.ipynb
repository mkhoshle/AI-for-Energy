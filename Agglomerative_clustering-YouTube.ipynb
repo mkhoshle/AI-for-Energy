{
 "cells": [
  {
   "cell_type": "code",
   "execution_count": 39,
   "metadata": {},
   "outputs": [],
   "source": [
    "# General\n",
    "import os\n",
    "import re\n",
    "import sklearn\n",
    "import nltk\n",
    "import numpy as np\n",
    "import pandas as pd\n",
    "import contractions\n",
    "import glob\n",
    "# Preprocessing\n",
    "from nltk.tokenize import word_tokenize\n",
    "from nltk.corpus import stopwords\n",
    "from sklearn.feature_extraction.text import TfidfVectorizer\n",
    "# models\n",
    "from sklearn.decomposition import PCA\n",
    "from sklearn.manifold import TSNE\n",
    "from sklearn.utils import shuffle\n",
    "import fastcluster\n",
    "from scipy.cluster.hierarchy import dendrogram, cophenet\n",
    "from scipy.spatial.distance import pdist\n",
    "# Plots\n",
    "import matplotlib.pyplot as plt\n",
    "import matplotlib.cm as cm\n",
    "import seaborn\n",
    "import seaborn as sns\n",
    "# Enable inline plotting  \n",
    "%matplotlib inline"
   ]
  },
  {
   "cell_type": "markdown",
   "metadata": {},
   "source": [
    "1) spell correction (https://github.com/cbaziotis/ekphrasis)<br>\n",
    "2) Slang expansion<br>\n",
    "3) coreferencing<br>"
   ]
  },
  {
   "cell_type": "code",
   "execution_count": 6,
   "metadata": {},
   "outputs": [],
   "source": [
    "parent_dir = 'energy,renewable,plant'\n",
    "subject_dirs = [os.path.join(parent_dir, dir) for dir in os.listdir(parent_dir) \n",
    "                if os.path.isdir(os.path.join(parent_dir, dir))]"
   ]
  },
  {
   "cell_type": "code",
   "execution_count": 7,
   "metadata": {},
   "outputs": [
    {
     "data": {
      "text/plain": [
       "['energy,renewable,plant/IndiaTV',\n",
       " 'energy,renewable,plant/RajyasabhaTV',\n",
       " 'energy,renewable,plant/CNBCIndia',\n",
       " 'energy,renewable,plant/NDTV',\n",
       " 'energy,renewable,plant/Random']"
      ]
     },
     "execution_count": 7,
     "metadata": {},
     "output_type": "execute_result"
    }
   ],
   "source": [
    "subject_dirs"
   ]
  },
  {
   "cell_type": "code",
   "execution_count": 8,
   "metadata": {},
   "outputs": [],
   "source": [
    "filelist = []\n",
    "for dir in subject_dirs:\n",
    "    csv_files = [os.path.join(dir, csv) for csv in os.listdir(dir) if os.path.isfile(os.path.join(dir, csv)) and csv.endswith('.csv')]\n",
    "    filelist.extend([file for file in csv_files])"
   ]
  },
  {
   "cell_type": "code",
   "execution_count": 9,
   "metadata": {},
   "outputs": [
    {
     "name": "stdout",
     "output_type": "stream",
     "text": [
      "error No columns to parse from file happened for file energy,renewable,plant/CNBCIndia/cnbc5.csv\n",
      "error Expected 21 fields in line 100, saw 321 happened for file energy,renewable,plant/Random/energy16.csv\n",
      "error Expected 21 fields in line 289, saw 1541 happened for file energy,renewable,plant/Random/energy15.csv\n"
     ]
    }
   ],
   "source": [
    "df = []\n",
    "for file in filelist:\n",
    "    try:\n",
    "        df.append(pd.read_csv(file,engine='python'))\n",
    "    except Exception as e:\n",
    "        print('error {} happened for file {}'.format(e,file))\n",
    "    \n",
    "data = pd.concat(df,axis=0)\n",
    "data = shuffle(data)\n",
    "data.index = range(len(data))"
   ]
  },
  {
   "cell_type": "code",
   "execution_count": 10,
   "metadata": {},
   "outputs": [
    {
     "data": {
      "text/plain": [
       "127637"
      ]
     },
     "execution_count": 10,
     "metadata": {},
     "output_type": "execute_result"
    }
   ],
   "source": [
    "len(data)"
   ]
  },
  {
   "cell_type": "code",
   "execution_count": 11,
   "metadata": {},
   "outputs": [
    {
     "data": {
      "text/plain": [
       "Index(['id', 'author', 'authorLink', 'authorThumb', 'text', 'likes', 'time',\n",
       "       'timestamp', 'edited', 'hasReplies', 'repliesToken', 'numReplies',\n",
       "       'reply.id', 'reply.author', 'reply.authorLink', 'reply.authorThumb',\n",
       "       'reply.text', 'reply.likes', 'reply.time', 'reply.timestamp',\n",
       "       'reply.edited'],\n",
       "      dtype='object')"
      ]
     },
     "execution_count": 11,
     "metadata": {},
     "output_type": "execute_result"
    }
   ],
   "source": [
    "data.columns"
   ]
  },
  {
   "cell_type": "code",
   "execution_count": 12,
   "metadata": {},
   "outputs": [
    {
     "data": {
      "text/html": [
       "<div>\n",
       "<style scoped>\n",
       "    .dataframe tbody tr th:only-of-type {\n",
       "        vertical-align: middle;\n",
       "    }\n",
       "\n",
       "    .dataframe tbody tr th {\n",
       "        vertical-align: top;\n",
       "    }\n",
       "\n",
       "    .dataframe thead th {\n",
       "        text-align: right;\n",
       "    }\n",
       "</style>\n",
       "<table border=\"1\" class=\"dataframe\">\n",
       "  <thead>\n",
       "    <tr style=\"text-align: right;\">\n",
       "      <th></th>\n",
       "      <th>id</th>\n",
       "      <th>author</th>\n",
       "      <th>authorLink</th>\n",
       "      <th>authorThumb</th>\n",
       "      <th>text</th>\n",
       "      <th>likes</th>\n",
       "      <th>time</th>\n",
       "      <th>timestamp</th>\n",
       "      <th>edited</th>\n",
       "      <th>hasReplies</th>\n",
       "      <th>...</th>\n",
       "      <th>numReplies</th>\n",
       "      <th>reply.id</th>\n",
       "      <th>reply.author</th>\n",
       "      <th>reply.authorLink</th>\n",
       "      <th>reply.authorThumb</th>\n",
       "      <th>reply.text</th>\n",
       "      <th>reply.likes</th>\n",
       "      <th>reply.time</th>\n",
       "      <th>reply.timestamp</th>\n",
       "      <th>reply.edited</th>\n",
       "    </tr>\n",
       "  </thead>\n",
       "  <tbody>\n",
       "    <tr>\n",
       "      <th>0</th>\n",
       "      <td>NaN</td>\n",
       "      <td>NaN</td>\n",
       "      <td>NaN</td>\n",
       "      <td>NaN</td>\n",
       "      <td>NaN</td>\n",
       "      <td>NaN</td>\n",
       "      <td>NaN</td>\n",
       "      <td>NaN</td>\n",
       "      <td>NaN</td>\n",
       "      <td>NaN</td>\n",
       "      <td>...</td>\n",
       "      <td>NaN</td>\n",
       "      <td>Ugyp0RQs_ZonMVJeTF94AaABAg.8rZOLgHpLMk8r_5yy2qD1H</td>\n",
       "      <td>Daniel Yusuke Shimizu</td>\n",
       "      <td>/channel/UCrRXR6TCisn3-tlEhG7ITbQ</td>\n",
       "      <td>https://yt3.ggpht.com/a/AATXAJwA7AQbUJfdG6bR1j...</td>\n",
       "      <td>Wait I thought youtube is banned\\n\\n\\n\\nEdit: ...</td>\n",
       "      <td>16.0</td>\n",
       "      <td>1 year ago</td>\n",
       "      <td>1.553027e+12</td>\n",
       "      <td>True</td>\n",
       "    </tr>\n",
       "    <tr>\n",
       "      <th>1</th>\n",
       "      <td>NaN</td>\n",
       "      <td>NaN</td>\n",
       "      <td>NaN</td>\n",
       "      <td>NaN</td>\n",
       "      <td>NaN</td>\n",
       "      <td>NaN</td>\n",
       "      <td>NaN</td>\n",
       "      <td>NaN</td>\n",
       "      <td>NaN</td>\n",
       "      <td>NaN</td>\n",
       "      <td>...</td>\n",
       "      <td>NaN</td>\n",
       "      <td>Ugycg4joZ62O9idnINp4AaABAg.8pLbzBGPegi8pp58hF7hEe</td>\n",
       "      <td>dickcheeze</td>\n",
       "      <td>/channel/UCdtkltGt2YqrrRuVuiGKWCg</td>\n",
       "      <td>https://yt3.ggpht.com/a/AATXAJxfKvRbVAe7BjOjfE...</td>\n",
       "      <td>Just beggar Indian</td>\n",
       "      <td>1.0</td>\n",
       "      <td>1 year ago</td>\n",
       "      <td>1.553011e+12</td>\n",
       "      <td>False</td>\n",
       "    </tr>\n",
       "    <tr>\n",
       "      <th>2</th>\n",
       "      <td>NaN</td>\n",
       "      <td>NaN</td>\n",
       "      <td>NaN</td>\n",
       "      <td>NaN</td>\n",
       "      <td>NaN</td>\n",
       "      <td>NaN</td>\n",
       "      <td>NaN</td>\n",
       "      <td>NaN</td>\n",
       "      <td>NaN</td>\n",
       "      <td>NaN</td>\n",
       "      <td>...</td>\n",
       "      <td>NaN</td>\n",
       "      <td>UgwVTU-ToiCbxbJOoy94AaABAg.8qSf3rQc16F8rjTzTmTTDq</td>\n",
       "      <td>victoria</td>\n",
       "      <td>/channel/UCbN8n1zAP2TPLXaO19PuqRA</td>\n",
       "      <td>https://yt3.ggpht.com/a/AATXAJwDNLQ4iH3N5bLDQC...</td>\n",
       "      <td>@Jckeitt3 yes we should all try and cut down o...</td>\n",
       "      <td>0.0</td>\n",
       "      <td>1 year ago</td>\n",
       "      <td>1.553011e+12</td>\n",
       "      <td>True</td>\n",
       "    </tr>\n",
       "    <tr>\n",
       "      <th>3</th>\n",
       "      <td>UgwsnmV5ReSXeFUlo3J4AaABAg</td>\n",
       "      <td>dagan_m</td>\n",
       "      <td>/channel/UCQ41nJ90IsChcXzvi6J3kAA</td>\n",
       "      <td>https://yt3.ggpht.com/a/AATXAJwifccYu3HIFYliD5...</td>\n",
       "      <td>Ganga cleaning is a mammoth project with almos...</td>\n",
       "      <td>0.0</td>\n",
       "      <td>1 year ago</td>\n",
       "      <td>1.553025e+12</td>\n",
       "      <td>False</td>\n",
       "      <td>False</td>\n",
       "      <td>...</td>\n",
       "      <td>NaN</td>\n",
       "      <td>NaN</td>\n",
       "      <td>NaN</td>\n",
       "      <td>NaN</td>\n",
       "      <td>NaN</td>\n",
       "      <td>NaN</td>\n",
       "      <td>NaN</td>\n",
       "      <td>NaN</td>\n",
       "      <td>NaN</td>\n",
       "      <td>NaN</td>\n",
       "    </tr>\n",
       "    <tr>\n",
       "      <th>4</th>\n",
       "      <td>UgzsEWQsRpJlOjfREFp4AaABAg</td>\n",
       "      <td>Jenica Casador Laguardia</td>\n",
       "      <td>/channel/UCHLm2J-Qxxhm7eMk8MAGBQw</td>\n",
       "      <td>https://yt3.ggpht.com/a/AATXAJx91L9Y546q66FGyG...</td>\n",
       "      <td>Why there's no action regarding with this issue?</td>\n",
       "      <td>0.0</td>\n",
       "      <td>1 year ago</td>\n",
       "      <td>1.553011e+12</td>\n",
       "      <td>False</td>\n",
       "      <td>False</td>\n",
       "      <td>...</td>\n",
       "      <td>NaN</td>\n",
       "      <td>NaN</td>\n",
       "      <td>NaN</td>\n",
       "      <td>NaN</td>\n",
       "      <td>NaN</td>\n",
       "      <td>NaN</td>\n",
       "      <td>NaN</td>\n",
       "      <td>NaN</td>\n",
       "      <td>NaN</td>\n",
       "      <td>NaN</td>\n",
       "    </tr>\n",
       "  </tbody>\n",
       "</table>\n",
       "<p>5 rows × 21 columns</p>\n",
       "</div>"
      ],
      "text/plain": [
       "                           id                    author  \\\n",
       "0                         NaN                       NaN   \n",
       "1                         NaN                       NaN   \n",
       "2                         NaN                       NaN   \n",
       "3  UgwsnmV5ReSXeFUlo3J4AaABAg                   dagan_m   \n",
       "4  UgzsEWQsRpJlOjfREFp4AaABAg  Jenica Casador Laguardia   \n",
       "\n",
       "                          authorLink  \\\n",
       "0                                NaN   \n",
       "1                                NaN   \n",
       "2                                NaN   \n",
       "3  /channel/UCQ41nJ90IsChcXzvi6J3kAA   \n",
       "4  /channel/UCHLm2J-Qxxhm7eMk8MAGBQw   \n",
       "\n",
       "                                         authorThumb  \\\n",
       "0                                                NaN   \n",
       "1                                                NaN   \n",
       "2                                                NaN   \n",
       "3  https://yt3.ggpht.com/a/AATXAJwifccYu3HIFYliD5...   \n",
       "4  https://yt3.ggpht.com/a/AATXAJx91L9Y546q66FGyG...   \n",
       "\n",
       "                                                text  likes        time  \\\n",
       "0                                                NaN    NaN         NaN   \n",
       "1                                                NaN    NaN         NaN   \n",
       "2                                                NaN    NaN         NaN   \n",
       "3  Ganga cleaning is a mammoth project with almos...    0.0  1 year ago   \n",
       "4   Why there's no action regarding with this issue?    0.0  1 year ago   \n",
       "\n",
       "      timestamp edited hasReplies  ... numReplies  \\\n",
       "0           NaN    NaN        NaN  ...        NaN   \n",
       "1           NaN    NaN        NaN  ...        NaN   \n",
       "2           NaN    NaN        NaN  ...        NaN   \n",
       "3  1.553025e+12  False      False  ...        NaN   \n",
       "4  1.553011e+12  False      False  ...        NaN   \n",
       "\n",
       "                                            reply.id           reply.author  \\\n",
       "0  Ugyp0RQs_ZonMVJeTF94AaABAg.8rZOLgHpLMk8r_5yy2qD1H  Daniel Yusuke Shimizu   \n",
       "1  Ugycg4joZ62O9idnINp4AaABAg.8pLbzBGPegi8pp58hF7hEe             dickcheeze   \n",
       "2  UgwVTU-ToiCbxbJOoy94AaABAg.8qSf3rQc16F8rjTzTmTTDq               victoria   \n",
       "3                                                NaN                    NaN   \n",
       "4                                                NaN                    NaN   \n",
       "\n",
       "                    reply.authorLink  \\\n",
       "0  /channel/UCrRXR6TCisn3-tlEhG7ITbQ   \n",
       "1  /channel/UCdtkltGt2YqrrRuVuiGKWCg   \n",
       "2  /channel/UCbN8n1zAP2TPLXaO19PuqRA   \n",
       "3                                NaN   \n",
       "4                                NaN   \n",
       "\n",
       "                                   reply.authorThumb  \\\n",
       "0  https://yt3.ggpht.com/a/AATXAJwA7AQbUJfdG6bR1j...   \n",
       "1  https://yt3.ggpht.com/a/AATXAJxfKvRbVAe7BjOjfE...   \n",
       "2  https://yt3.ggpht.com/a/AATXAJwDNLQ4iH3N5bLDQC...   \n",
       "3                                                NaN   \n",
       "4                                                NaN   \n",
       "\n",
       "                                          reply.text reply.likes  reply.time  \\\n",
       "0  Wait I thought youtube is banned\\n\\n\\n\\nEdit: ...        16.0  1 year ago   \n",
       "1                                 Just beggar Indian         1.0  1 year ago   \n",
       "2  @Jckeitt3 yes we should all try and cut down o...         0.0  1 year ago   \n",
       "3                                                NaN         NaN         NaN   \n",
       "4                                                NaN         NaN         NaN   \n",
       "\n",
       "  reply.timestamp  reply.edited  \n",
       "0    1.553027e+12          True  \n",
       "1    1.553011e+12         False  \n",
       "2    1.553011e+12          True  \n",
       "3             NaN           NaN  \n",
       "4             NaN           NaN  \n",
       "\n",
       "[5 rows x 21 columns]"
      ]
     },
     "execution_count": 12,
     "metadata": {},
     "output_type": "execute_result"
    }
   ],
   "source": [
    "data.head()"
   ]
  },
  {
   "cell_type": "code",
   "execution_count": 13,
   "metadata": {},
   "outputs": [],
   "source": [
    "data = data[~(data['text'].isnull() & data['reply.text'].isnull())]"
   ]
  },
  {
   "cell_type": "code",
   "execution_count": 14,
   "metadata": {},
   "outputs": [
    {
     "data": {
      "text/plain": [
       "127637"
      ]
     },
     "execution_count": 14,
     "metadata": {},
     "output_type": "execute_result"
    }
   ],
   "source": [
    "len(data)"
   ]
  },
  {
   "cell_type": "code",
   "execution_count": 15,
   "metadata": {},
   "outputs": [],
   "source": [
    "data['text_merged'] = data['text'].astype(str)+data['reply.text'].astype(str)"
   ]
  },
  {
   "cell_type": "markdown",
   "metadata": {},
   "source": [
    "## Preprocess"
   ]
  },
  {
   "cell_type": "code",
   "execution_count": 16,
   "metadata": {},
   "outputs": [],
   "source": [
    "stopword = stopwords.words('english') "
   ]
  },
  {
   "cell_type": "code",
   "execution_count": 17,
   "metadata": {},
   "outputs": [],
   "source": [
    "def stemming(words):\n",
    "    ps = nltk.stem.SnowballStemmer('english')\n",
    "    new = []\n",
    "    stem_words = [ps.stem(x) for x in words]\n",
    "    return stem_words"
   ]
  },
  {
   "cell_type": "code",
   "execution_count": 18,
   "metadata": {},
   "outputs": [],
   "source": [
    "def preprocess(sentence):\n",
    "    sentence = contractions.fix(sentence)             # Replace contractions in string \n",
    "    sentence = re.sub('@\\w+',\"\",str(sentence))        # remove mentions\n",
    "    sentence = re.sub('#\\w+',\"\",str(sentence))        # remove hashtags\n",
    "    sentence = re.sub('http\\S+',\"\",str(sentence))     # remove URLs\n",
    "    sentence = re.sub('[^\\w\\s]',\" \",str(sentence))    # remove punc\n",
    "    sentence = re.sub('[^a-zA-Z]',\" \",str(sentence))  # remove numbers\n",
    "  \n",
    "    sents = word_tokenize(sentence)                   # Tokenization\n",
    "    sents = stemming(sents)\n",
    "            \n",
    "    new_sents = \"\"\n",
    "    for i in range(len(sents)):                       # remove stopwords            \n",
    "        if(sents[i].lower() not in stopword and sents[i]!='rt' and len(sents[i])>1):\n",
    "            new_sents += sents[i].lower()+\" \"\n",
    "    new_sents.strip()\n",
    "    \n",
    "    return new_sents"
   ]
  },
  {
   "cell_type": "code",
   "execution_count": 19,
   "metadata": {},
   "outputs": [],
   "source": [
    "def preprocessing(xtrain):\n",
    "    corpus = xtrain.apply(preprocess)\n",
    "    return corpus"
   ]
  },
  {
   "cell_type": "code",
   "execution_count": 20,
   "metadata": {},
   "outputs": [],
   "source": [
    "corpus = preprocessing(data['text_merged'])\n",
    "corpus = corpus.drop_duplicates() "
   ]
  },
  {
   "cell_type": "markdown",
   "metadata": {},
   "source": [
    "## Feature Extraction"
   ]
  },
  {
   "cell_type": "code",
   "execution_count": 21,
   "metadata": {},
   "outputs": [],
   "source": [
    "def featureextraction(corpus):\n",
    "    \n",
    "    vectorizer = TfidfVectorizer(max_df=.5,min_df=1,max_features=None,ngram_range=(1, 2),norm=None,binary=True,\n",
    "                             use_idf=False,sublinear_tf=False,strip_accents = 'unicode',stop_words = 'english')\n",
    "    vectorizer = vectorizer.fit(corpus)\n",
    "    tfidf = vectorizer.transform(corpus)\n",
    "    vocab = vectorizer.get_feature_names()\n",
    "\n",
    "    return tfidf, vocab"
   ]
  },
  {
   "cell_type": "code",
   "execution_count": 22,
   "metadata": {},
   "outputs": [],
   "source": [
    "tfidf, vocab = featureextraction(corpus)"
   ]
  },
  {
   "cell_type": "code",
   "execution_count": 23,
   "metadata": {},
   "outputs": [
    {
     "data": {
      "text/plain": [
       "(114356, 688918)"
      ]
     },
     "execution_count": 23,
     "metadata": {},
     "output_type": "execute_result"
    }
   ],
   "source": [
    "np.shape(tfidf)"
   ]
  },
  {
   "cell_type": "markdown",
   "metadata": {},
   "source": [
    "## Agglomerative Hierarchical Clustering"
   ]
  },
  {
   "cell_type": "markdown",
   "metadata": {},
   "source": [
    "__Pros__:\n",
    "1) No assumption of a particular number of clusters (i.e. k-means)<br>\n",
    "2) May correspond to meaningful taxonomies<br>\n",
    "__Cons__:\n",
    "1) Too slow for large data sets, O(𝑛2 log(𝑛))"
   ]
  },
  {
   "cell_type": "markdown",
   "metadata": {},
   "source": [
    "The version of hierarchical clustering we will explore is called agglomerative clustering. Although Scikit-Learn has a library for this, it performs very slowly. Instead, we will choose to use another version of hierarchical clustering called fastcluster. This package is a C++ library with an interface in Python/SciPy.<br>\n",
    "For more information, look here:<br>\n",
    "http://danifold.net/fastcluster.html?section=1\n",
    "\n",
    "User Manual:<br>\n",
    "https://cran.r-project.org/web/packages/fastcluster/vignettes/fastcluster.pdf"
   ]
  },
  {
   "cell_type": "code",
   "execution_count": 24,
   "metadata": {},
   "outputs": [],
   "source": [
    "from sklearn.decomposition import TruncatedSVD"
   ]
  },
  {
   "cell_type": "code",
   "execution_count": 25,
   "metadata": {},
   "outputs": [],
   "source": [
    "svd = TruncatedSVD(n_components=10)"
   ]
  },
  {
   "cell_type": "code",
   "execution_count": 26,
   "metadata": {},
   "outputs": [],
   "source": [
    "sv = svd.fit_transform(tfidf)"
   ]
  },
  {
   "cell_type": "code",
   "execution_count": 27,
   "metadata": {},
   "outputs": [
    {
     "data": {
      "text/plain": [
       "(114356, 10)"
      ]
     },
     "execution_count": 27,
     "metadata": {},
     "output_type": "execute_result"
    }
   ],
   "source": [
    "np.shape(sv)"
   ]
  },
  {
   "cell_type": "code",
   "execution_count": 28,
   "metadata": {},
   "outputs": [],
   "source": [
    "# pca = PCA(n_components=50).fit_transform(tfidf.todense())"
   ]
  },
  {
   "cell_type": "code",
   "execution_count": 29,
   "metadata": {},
   "outputs": [],
   "source": [
    "Z = fastcluster.linkage_vector(sv,method='ward', metric='euclidean')"
   ]
  },
  {
   "cell_type": "code",
   "execution_count": 30,
   "metadata": {},
   "outputs": [],
   "source": [
    "Z_dataFrame = pd.DataFrame(data=Z, \n",
    "    columns=['clusterOne','clusterTwo','distance','newClusterSize']) "
   ]
  },
  {
   "cell_type": "code",
   "execution_count": 31,
   "metadata": {},
   "outputs": [
    {
     "data": {
      "text/plain": [
       "array([[3.27720000e+04, 3.49770000e+04, 0.00000000e+00, 2.00000000e+00],\n",
       "       [8.19400000e+03, 5.35260000e+04, 0.00000000e+00, 2.00000000e+00],\n",
       "       [1.63890000e+04, 8.45580000e+04, 0.00000000e+00, 2.00000000e+00],\n",
       "       ...,\n",
       "       [2.28706000e+05, 2.28707000e+05, 1.22306346e+02, 5.18890000e+04],\n",
       "       [2.28683000e+05, 2.28708000e+05, 1.46837611e+02, 7.70420000e+04],\n",
       "       [2.28680000e+05, 2.28709000e+05, 1.81878296e+02, 1.14356000e+05]])"
      ]
     },
     "execution_count": 31,
     "metadata": {},
     "output_type": "execute_result"
    }
   ],
   "source": [
    "Z"
   ]
  },
  {
   "cell_type": "markdown",
   "metadata": {},
   "source": [
    "### Dendrograms "
   ]
  },
  {
   "cell_type": "markdown",
   "metadata": {},
   "source": [
    "We can use a dendrogram to visualize the history of groupings and figure out the optimal number of clusters. <br>\n",
    "1) Determine the largest vertical distance that doesn’t intersect any of the other clusters<br>\n",
    "2) Draw a horizontal line at both extremities<br>\n",
    "3) The optimal number of clusters is equal to the number of vertical lines going through the horizontal line"
   ]
  },
  {
   "cell_type": "code",
   "execution_count": 32,
   "metadata": {},
   "outputs": [
    {
     "data": {
      "image/png": "[encoded data removed]",
      "text/plain": [
       "<Figure size 432x288 with 1 Axes>"
      ]
     },
     "metadata": {
      "needs_background": "light"
     },
     "output_type": "display_data"
    }
   ],
   "source": [
    "dend = dendrogram(Z)"
   ]
  },
  {
   "cell_type": "markdown",
   "metadata": {},
   "source": [
    "Following the above procedures and the Dendogram above the optimum number of clusters is __three__."
   ]
  },
  {
   "cell_type": "code",
   "execution_count": 33,
   "metadata": {},
   "outputs": [],
   "source": [
    "from scipy.cluster.hierarchy import fcluster\n",
    "\n",
    "distance_threshold = 130\n",
    "clusters = fcluster(Z, distance_threshold, criterion='distance')"
   ]
  },
  {
   "cell_type": "code",
   "execution_count": 34,
   "metadata": {},
   "outputs": [
    {
     "data": {
      "text/plain": [
       "array([1, 3, 3, ..., 1, 3, 3], dtype=int32)"
      ]
     },
     "execution_count": 34,
     "metadata": {},
     "output_type": "execute_result"
    }
   ],
   "source": [
    "clusters"
   ]
  },
  {
   "cell_type": "code",
   "execution_count": 35,
   "metadata": {},
   "outputs": [
    {
     "data": {
      "text/plain": [
       "114356"
      ]
     },
     "execution_count": 35,
     "metadata": {},
     "output_type": "execute_result"
    }
   ],
   "source": [
    "len(clusters)"
   ]
  },
  {
   "cell_type": "code",
   "execution_count": 36,
   "metadata": {},
   "outputs": [
    {
     "data": {
      "text/plain": [
       "<matplotlib.collections.PathCollection at 0x1295391c0>"
      ]
     },
     "execution_count": 36,
     "metadata": {},
     "output_type": "execute_result"
    },
    {
     "data": {
      "image/png": "[encoded data removed]",
      "text/plain": [
       "<Figure size 432x432 with 1 Axes>"
      ]
     },
     "metadata": {
      "needs_background": "light"
     },
     "output_type": "display_data"
    }
   ],
   "source": [
    "f, ax = plt.subplots(1, 1, figsize=(6, 6))\n",
    "tsne = TSNE(n_components=2).fit_transform(sv)\n",
    "max_label = max(clusters)\n",
    "label_subset = [cm.hsv(i/max_label) for i in clusters]\n",
    "ax.scatter(tsne[:, 0], tsne[:, 1], c=label_subset)"
   ]
  },
  {
   "cell_type": "code",
   "execution_count": 37,
   "metadata": {},
   "outputs": [],
   "source": [
    "def get_top_keywords(data, clusters, labels, n_terms):\n",
    "    df = pd.DataFrame(data).groupby(clusters).mean()\n",
    "    \n",
    "    for i,r in df.iterrows():\n",
    "        print('\\nCluster {}'.format(i))\n",
    "        print(','.join([labels[t] for t in np.argsort(r)[-n_terms:]]))"
   ]
  },
  {
   "cell_type": "code",
   "execution_count": 38,
   "metadata": {},
   "outputs": [
    {
     "ename": "DataError",
     "evalue": "No numeric types to aggregate",
     "output_type": "error",
     "traceback": [
      "\u001b[0;31m---------------------------------------------------------------------------\u001b[0m",
      "\u001b[0;31mDataError\u001b[0m                                 Traceback (most recent call last)",
      "\u001b[0;32m<ipython-input-38-39ea5a92443e>\u001b[0m in \u001b[0;36m<module>\u001b[0;34m\u001b[0m\n\u001b[0;32m----> 1\u001b[0;31m \u001b[0mget_top_keywords\u001b[0m\u001b[0;34m(\u001b[0m\u001b[0mtfidf\u001b[0m\u001b[0;34m,\u001b[0m \u001b[0mclusters\u001b[0m\u001b[0;34m,\u001b[0m \u001b[0mvocab\u001b[0m\u001b[0;34m,\u001b[0m \u001b[0;36m10\u001b[0m\u001b[0;34m)\u001b[0m\u001b[0;34m\u001b[0m\u001b[0;34m\u001b[0m\u001b[0m\n\u001b[0m",
      "\u001b[0;32m<ipython-input-37-27e29a2da575>\u001b[0m in \u001b[0;36mget_top_keywords\u001b[0;34m(data, clusters, labels, n_terms)\u001b[0m\n\u001b[1;32m      1\u001b[0m \u001b[0;32mdef\u001b[0m \u001b[0mget_top_keywords\u001b[0m\u001b[0;34m(\u001b[0m\u001b[0mdata\u001b[0m\u001b[0;34m,\u001b[0m \u001b[0mclusters\u001b[0m\u001b[0;34m,\u001b[0m \u001b[0mlabels\u001b[0m\u001b[0;34m,\u001b[0m \u001b[0mn_terms\u001b[0m\u001b[0;34m)\u001b[0m\u001b[0;34m:\u001b[0m\u001b[0;34m\u001b[0m\u001b[0;34m\u001b[0m\u001b[0m\n\u001b[0;32m----> 2\u001b[0;31m     \u001b[0mdf\u001b[0m \u001b[0;34m=\u001b[0m \u001b[0mpd\u001b[0m\u001b[0;34m.\u001b[0m\u001b[0mDataFrame\u001b[0m\u001b[0;34m(\u001b[0m\u001b[0mdata\u001b[0m\u001b[0;34m)\u001b[0m\u001b[0;34m.\u001b[0m\u001b[0mgroupby\u001b[0m\u001b[0;34m(\u001b[0m\u001b[0mclusters\u001b[0m\u001b[0;34m)\u001b[0m\u001b[0;34m.\u001b[0m\u001b[0mmean\u001b[0m\u001b[0;34m(\u001b[0m\u001b[0;34m)\u001b[0m\u001b[0;34m\u001b[0m\u001b[0;34m\u001b[0m\u001b[0m\n\u001b[0m\u001b[1;32m      3\u001b[0m \u001b[0;34m\u001b[0m\u001b[0m\n\u001b[1;32m      4\u001b[0m     \u001b[0;32mfor\u001b[0m \u001b[0mi\u001b[0m\u001b[0;34m,\u001b[0m\u001b[0mr\u001b[0m \u001b[0;32min\u001b[0m \u001b[0mdf\u001b[0m\u001b[0;34m.\u001b[0m\u001b[0miterrows\u001b[0m\u001b[0;34m(\u001b[0m\u001b[0;34m)\u001b[0m\u001b[0;34m:\u001b[0m\u001b[0;34m\u001b[0m\u001b[0;34m\u001b[0m\u001b[0m\n\u001b[1;32m      5\u001b[0m         \u001b[0mprint\u001b[0m\u001b[0;34m(\u001b[0m\u001b[0;34m'\\nCluster {}'\u001b[0m\u001b[0;34m.\u001b[0m\u001b[0mformat\u001b[0m\u001b[0;34m(\u001b[0m\u001b[0mi\u001b[0m\u001b[0;34m)\u001b[0m\u001b[0;34m)\u001b[0m\u001b[0;34m\u001b[0m\u001b[0;34m\u001b[0m\u001b[0m\n",
      "\u001b[0;32m~/miniconda3/envs/omdena/lib/python3.8/site-packages/pandas/core/groupby/groupby.py\u001b[0m in \u001b[0;36mmean\u001b[0;34m(self, *args, **kwargs)\u001b[0m\n\u001b[1;32m   1222\u001b[0m         \"\"\"\n\u001b[1;32m   1223\u001b[0m         \u001b[0mnv\u001b[0m\u001b[0;34m.\u001b[0m\u001b[0mvalidate_groupby_func\u001b[0m\u001b[0;34m(\u001b[0m\u001b[0;34m\"mean\"\u001b[0m\u001b[0;34m,\u001b[0m \u001b[0margs\u001b[0m\u001b[0;34m,\u001b[0m \u001b[0mkwargs\u001b[0m\u001b[0;34m,\u001b[0m \u001b[0;34m[\u001b[0m\u001b[0;34m\"numeric_only\"\u001b[0m\u001b[0;34m]\u001b[0m\u001b[0;34m)\u001b[0m\u001b[0;34m\u001b[0m\u001b[0;34m\u001b[0m\u001b[0m\n\u001b[0;32m-> 1224\u001b[0;31m         return self._cython_agg_general(\n\u001b[0m\u001b[1;32m   1225\u001b[0m             \u001b[0;34m\"mean\"\u001b[0m\u001b[0;34m,\u001b[0m \u001b[0malt\u001b[0m\u001b[0;34m=\u001b[0m\u001b[0;32mlambda\u001b[0m \u001b[0mx\u001b[0m\u001b[0;34m,\u001b[0m \u001b[0maxis\u001b[0m\u001b[0;34m:\u001b[0m \u001b[0mSeries\u001b[0m\u001b[0;34m(\u001b[0m\u001b[0mx\u001b[0m\u001b[0;34m)\u001b[0m\u001b[0;34m.\u001b[0m\u001b[0mmean\u001b[0m\u001b[0;34m(\u001b[0m\u001b[0;34m**\u001b[0m\u001b[0mkwargs\u001b[0m\u001b[0;34m)\u001b[0m\u001b[0;34m,\u001b[0m \u001b[0;34m**\u001b[0m\u001b[0mkwargs\u001b[0m\u001b[0;34m\u001b[0m\u001b[0;34m\u001b[0m\u001b[0m\n\u001b[1;32m   1226\u001b[0m         )\n",
      "\u001b[0;32m~/miniconda3/envs/omdena/lib/python3.8/site-packages/pandas/core/groupby/generic.py\u001b[0m in \u001b[0;36m_cython_agg_general\u001b[0;34m(self, how, alt, numeric_only, min_count)\u001b[0m\n\u001b[1;32m    991\u001b[0m         \u001b[0mself\u001b[0m\u001b[0;34m,\u001b[0m \u001b[0mhow\u001b[0m\u001b[0;34m:\u001b[0m \u001b[0mstr\u001b[0m\u001b[0;34m,\u001b[0m \u001b[0malt\u001b[0m\u001b[0;34m=\u001b[0m\u001b[0;32mNone\u001b[0m\u001b[0;34m,\u001b[0m \u001b[0mnumeric_only\u001b[0m\u001b[0;34m:\u001b[0m \u001b[0mbool\u001b[0m \u001b[0;34m=\u001b[0m \u001b[0;32mTrue\u001b[0m\u001b[0;34m,\u001b[0m \u001b[0mmin_count\u001b[0m\u001b[0;34m:\u001b[0m \u001b[0mint\u001b[0m \u001b[0;34m=\u001b[0m \u001b[0;34m-\u001b[0m\u001b[0;36m1\u001b[0m\u001b[0;34m\u001b[0m\u001b[0;34m\u001b[0m\u001b[0m\n\u001b[1;32m    992\u001b[0m     ) -> DataFrame:\n\u001b[0;32m--> 993\u001b[0;31m         agg_blocks, agg_items = self._cython_agg_blocks(\n\u001b[0m\u001b[1;32m    994\u001b[0m             \u001b[0mhow\u001b[0m\u001b[0;34m,\u001b[0m \u001b[0malt\u001b[0m\u001b[0;34m=\u001b[0m\u001b[0malt\u001b[0m\u001b[0;34m,\u001b[0m \u001b[0mnumeric_only\u001b[0m\u001b[0;34m=\u001b[0m\u001b[0mnumeric_only\u001b[0m\u001b[0;34m,\u001b[0m \u001b[0mmin_count\u001b[0m\u001b[0;34m=\u001b[0m\u001b[0mmin_count\u001b[0m\u001b[0;34m\u001b[0m\u001b[0;34m\u001b[0m\u001b[0m\n\u001b[1;32m    995\u001b[0m         )\n",
      "\u001b[0;32m~/miniconda3/envs/omdena/lib/python3.8/site-packages/pandas/core/groupby/generic.py\u001b[0m in \u001b[0;36m_cython_agg_blocks\u001b[0;34m(self, how, alt, numeric_only, min_count)\u001b[0m\n\u001b[1;32m   1093\u001b[0m \u001b[0;34m\u001b[0m\u001b[0m\n\u001b[1;32m   1094\u001b[0m         \u001b[0;32mif\u001b[0m \u001b[0;32mnot\u001b[0m \u001b[0;34m(\u001b[0m\u001b[0magg_blocks\u001b[0m \u001b[0;32mor\u001b[0m \u001b[0msplit_frames\u001b[0m\u001b[0;34m)\u001b[0m\u001b[0;34m:\u001b[0m\u001b[0;34m\u001b[0m\u001b[0;34m\u001b[0m\u001b[0m\n\u001b[0;32m-> 1095\u001b[0;31m             \u001b[0;32mraise\u001b[0m \u001b[0mDataError\u001b[0m\u001b[0;34m(\u001b[0m\u001b[0;34m\"No numeric types to aggregate\"\u001b[0m\u001b[0;34m)\u001b[0m\u001b[0;34m\u001b[0m\u001b[0;34m\u001b[0m\u001b[0m\n\u001b[0m\u001b[1;32m   1096\u001b[0m \u001b[0;34m\u001b[0m\u001b[0m\n\u001b[1;32m   1097\u001b[0m         \u001b[0;32mif\u001b[0m \u001b[0msplit_items\u001b[0m\u001b[0;34m:\u001b[0m\u001b[0;34m\u001b[0m\u001b[0;34m\u001b[0m\u001b[0m\n",
      "\u001b[0;31mDataError\u001b[0m: No numeric types to aggregate"
     ]
    }
   ],
   "source": [
    "get_top_keywords(tfidf, clusters, vocab, 10)"
   ]
  },
  {
   "cell_type": "code",
   "execution_count": null,
   "metadata": {},
   "outputs": [],
   "source": []
  }
 ],
 "metadata": {
  "kernelspec": {
   "display_name": "Python 3",
   "language": "python",
   "name": "python3"
  },
  "language_info": {
   "codemirror_mode": {
    "name": "ipython",
    "version": 3
   },
   "file_extension": ".py",
   "mimetype": "text/x-python",
   "name": "python",
   "nbconvert_exporter": "python",
   "pygments_lexer": "ipython3",
   "version": "3.8.2"
  }
 },
 "nbformat": 4,
 "nbformat_minor": 4
}
