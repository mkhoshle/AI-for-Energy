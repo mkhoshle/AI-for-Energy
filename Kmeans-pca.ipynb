{
 "cells": [
  {
   "cell_type": "code",
   "execution_count": 143,
   "metadata": {},
   "outputs": [],
   "source": [
    "# General\n",
    "import os\n",
    "import re\n",
    "import sklearn\n",
    "import nltk\n",
    "import numpy as np\n",
    "import pandas as pd\n",
    "import contractions\n",
    "# Preprocessing\n",
    "from nltk.tokenize import word_tokenize\n",
    "from nltk.corpus import stopwords\n",
    "from sklearn.feature_extraction.text import TfidfVectorizer\n",
    "# models\n",
    "from sklearn.decomposition import PCA\n",
    "from sklearn.manifold import TSNE\n",
    "from sklearn.utils import shuffle\n",
    "from sklearn.cluster import KMeans\n",
    "from sklearn.cluster import MiniBatchKMeans\n",
    "# Plots\n",
    "import matplotlib.pyplot as plt\n",
    "import matplotlib.cm as cm\n",
    "import seaborn\n",
    "import seaborn as sns\n",
    "# Enable inline plotting  \n",
    "%matplotlib inline"
   ]
  },
  {
   "cell_type": "code",
   "execution_count": 144,
   "metadata": {},
   "outputs": [],
   "source": [
    "data1 = pd.read_csv('train/tweet_global_warming.csv',error_bad_lines=False,engine='python')\n",
    "data2 = pd.read_csv('train/weather-evaluated-agg-DFE.csv',encoding='utf-8')\n",
    "data3 = pd.read_csv('train/sentiment_nuclear_power.csv',error_bad_lines=False,engine='python')"
   ]
  },
  {
   "cell_type": "code",
   "execution_count": 145,
   "metadata": {},
   "outputs": [],
   "source": [
    "data = pd.concat([data1['tweet'],data2['tweet_text'],data3['tweet_text']],axis=0)\n",
    "data = shuffle(data)\n",
    "data.index = range(len(data))"
   ]
  },
  {
   "cell_type": "code",
   "execution_count": 146,
   "metadata": {},
   "outputs": [
    {
     "data": {
      "text/plain": [
       "0    CLIMATE CHANGE: Voice of Civil Society Loud an...\n",
       "1    LAist| Protesters Take on Valero Over Initiati...\n",
       "2    Thankfully, at least Rio Tinto's Preston Chiar...\n",
       "3    Check this video out -- George Carlin on Globa...\n",
       "4    Where Is Global Warming? by Rebecca Terrell, N...\n",
       "dtype: object"
      ]
     },
     "execution_count": 146,
     "metadata": {},
     "output_type": "execute_result"
    }
   ],
   "source": [
    "data.head()"
   ]
  },
  {
   "cell_type": "markdown",
   "metadata": {},
   "source": [
    "## Preprocess"
   ]
  },
  {
   "cell_type": "code",
   "execution_count": 147,
   "metadata": {},
   "outputs": [],
   "source": [
    "stopword = stopwords.words('english') "
   ]
  },
  {
   "cell_type": "code",
   "execution_count": 148,
   "metadata": {},
   "outputs": [],
   "source": [
    "def stemming(words):\n",
    "    ps = nltk.stem.SnowballStemmer('english')\n",
    "    new = []\n",
    "    stem_words = [ps.stem(x) for x in words]\n",
    "    return stem_words"
   ]
  },
  {
   "cell_type": "code",
   "execution_count": 149,
   "metadata": {},
   "outputs": [],
   "source": [
    "def preprocess(sentence):\n",
    "    sentence = contractions.fix(sentence)             # Replace contractions in string \n",
    "    sentence = re.sub('@\\w+',\"\",str(sentence))        # remove mentions\n",
    "    sentence = re.sub('#\\w+',\"\",str(sentence))        # remove hashtags\n",
    "    sentence = re.sub('http\\S+',\"\",str(sentence))     # remove URLs\n",
    "    sentence = re.sub('[^\\w\\s]',\" \",str(sentence))    # remove punc\n",
    "    sentence = re.sub('[^a-zA-Z]',\" \",str(sentence))  # remove numbers\n",
    "  \n",
    "    sents = word_tokenize(sentence)                   # Tokenization\n",
    "    sents = stemming(sents)\n",
    "            \n",
    "    new_sents = \"\"\n",
    "    for i in range(len(sents)):                       # remove stopwords            \n",
    "        if(sents[i].lower() not in stopword and sents[i]!='rt' and len(sents[i])>1):\n",
    "            new_sents += sents[i].lower()+\" \"\n",
    "    new_sents.strip()\n",
    "    \n",
    "    return new_sents"
   ]
  },
  {
   "cell_type": "code",
   "execution_count": 150,
   "metadata": {},
   "outputs": [],
   "source": [
    "def preprocessing(xtrain):\n",
    "    corpus = xtrain.apply(preprocess)\n",
    "    return corpus"
   ]
  },
  {
   "cell_type": "code",
   "execution_count": 151,
   "metadata": {},
   "outputs": [],
   "source": [
    "corpus = preprocessing(data)\n",
    "corpus = corpus.drop_duplicates() "
   ]
  },
  {
   "cell_type": "markdown",
   "metadata": {},
   "source": [
    "## Feature Extraction"
   ]
  },
  {
   "cell_type": "code",
   "execution_count": 152,
   "metadata": {},
   "outputs": [],
   "source": [
    "def featureextraction(corpus):\n",
    "    \n",
    "    vectorizer = TfidfVectorizer(max_df=.5,min_df=1,max_features=None,ngram_range=(1, 2),norm=None,binary=True,\n",
    "                             use_idf=False,sublinear_tf=False,strip_accents = 'unicode',stop_words = 'english')\n",
    "    vectorizer = vectorizer.fit(corpus)\n",
    "    tfidf = vectorizer.transform(corpus)\n",
    "    vocab = vectorizer.get_feature_names()\n",
    "\n",
    "    return tfidf, vocab"
   ]
  },
  {
   "cell_type": "code",
   "execution_count": 153,
   "metadata": {},
   "outputs": [],
   "source": [
    "tfidf, vocab = featureextraction(corpus)"
   ]
  },
  {
   "cell_type": "markdown",
   "metadata": {},
   "source": [
    "## Kmeans Clustering "
   ]
  },
  {
   "cell_type": "markdown",
   "metadata": {},
   "source": [
    "### Finding optimum number of clusters"
   ]
  },
  {
   "cell_type": "code",
   "execution_count": 154,
   "metadata": {},
   "outputs": [],
   "source": [
    "def find_optimal_clusters(data, max_k):\n",
    "    iters = range(1, max_k+1, 2)\n",
    "    max_iterations = 300\n",
    "    \n",
    "    sse = []\n",
    "    for k in iters:\n",
    "        clustering_model = KMeans(n_clusters=k,max_iter=max_iterations,\n",
    "                                  precompute_distances=\"auto\",n_jobs=-1).fit(data)\n",
    "        sse.append(clustering_model.inertia_ )\n",
    "        print('Fit {} clusters'.format(k))\n",
    "        \n",
    "    f, ax = plt.subplots(1, 1)\n",
    "    ax.plot(iters, sse, marker='o')\n",
    "    ax.set_xlabel('Cluster Centers')\n",
    "    ax.set_xticks(iters)\n",
    "    ax.set_xticklabels(iters)\n",
    "    ax.set_ylabel('SSE')\n",
    "    ax.set_title('SSE by Cluster Center Plot')"
   ]
  },
  {
   "cell_type": "code",
   "execution_count": 155,
   "metadata": {},
   "outputs": [
    {
     "name": "stdout",
     "output_type": "stream",
     "text": [
      "Fit 1 clusters\n",
      "Fit 3 clusters\n",
      "Fit 5 clusters\n",
      "Fit 7 clusters\n",
      "Fit 9 clusters\n",
      "Fit 11 clusters\n",
      "Fit 13 clusters\n",
      "Fit 15 clusters\n",
      "Fit 17 clusters\n",
      "Fit 19 clusters\n"
     ]
    },
    {
     "data": {
      "image/png": "[encoded data removed]",
      "text/plain": [
       "<Figure size 432x288 with 1 Axes>"
      ]
     },
     "metadata": {
      "needs_background": "light"
     },
     "output_type": "display_data"
    }
   ],
   "source": [
    "find_optimal_clusters(tfidf, 20)"
   ]
  },
  {
   "cell_type": "code",
   "execution_count": 156,
   "metadata": {},
   "outputs": [
    {
     "data": {
      "text/plain": [
       "(6019, 34259)"
      ]
     },
     "execution_count": 156,
     "metadata": {},
     "output_type": "execute_result"
    }
   ],
   "source": [
    "np.shape(tfidf)"
   ]
  },
  {
   "cell_type": "code",
   "execution_count": 166,
   "metadata": {},
   "outputs": [],
   "source": [
    "clusters = KMeans(n_clusters=3, max_iter=300,precompute_distances=\"auto\",\n",
    "                  n_jobs=-1).fit_predict(tfidf)\n",
    "clusters = np.array([x+1 for x in clusters])"
   ]
  },
  {
   "cell_type": "markdown",
   "metadata": {},
   "source": [
    "### Plotting the clusters"
   ]
  },
  {
   "cell_type": "code",
   "execution_count": 167,
   "metadata": {},
   "outputs": [],
   "source": [
    "def plot_tsne_pca(data, labels):\n",
    "    max_label = max(labels)\n",
    "#     max_items = np.random.choice(range(data.shape[0]), size=3000, replace=False)\n",
    "    \n",
    "#     pca = PCA(n_components=2).fit_transform(data[max_items,:].todense())\n",
    "    pca = PCA(n_components=2).fit_transform(data.todense())\n",
    "#     tsne = TSNE().fit_transform(PCA(n_components=50).fit_transform(data[max_items,:].todense()))\n",
    "    tsne = TSNE().fit_transform(PCA(n_components=50).fit_transform(data.todense()))\n",
    "    \n",
    "#     idx = np.random.choice(range(pca.shape[0]), size=300, replace=False)\n",
    "#     label_subset = labels[max_items]\n",
    "    label_subset = labels\n",
    "    label_subset = [cm.hsv(i/max_label) for i in label_subset]\n",
    "    \n",
    "    f, ax = plt.subplots(1, 2, figsize=(14, 6))\n",
    "\n",
    "#     ax[0].scatter(pca[idx, 0], pca[idx, 1], c=label_subset)\n",
    "    ax[0].scatter(pca[:, 0], pca[:, 1], c=label_subset)\n",
    "    ax[0].set_title('PCA Cluster Plot')\n",
    "    \n",
    "#     ax[1].scatter(tsne[idx, 0], tsne[idx, 1], c=label_subset)\n",
    "    ax[1].scatter(tsne[:, 0], tsne[:, 1], c=label_subset)\n",
    "    ax[1].set_title('TSNE Cluster Plot')"
   ]
  },
  {
   "cell_type": "code",
   "execution_count": 168,
   "metadata": {},
   "outputs": [
    {
     "data": {
      "image/png": "[encoded data removed]",
      "text/plain": [
       "<Figure size 1008x432 with 2 Axes>"
      ]
     },
     "metadata": {
      "needs_background": "light"
     },
     "output_type": "display_data"
    }
   ],
   "source": [
    "plot_tsne_pca(tfidf, clusters)"
   ]
  },
  {
   "cell_type": "code",
   "execution_count": 160,
   "metadata": {},
   "outputs": [],
   "source": [
    "def get_top_keywords(data, clusters, labels, n_terms):\n",
    "    df = pd.DataFrame(data.todense()).groupby(clusters).mean()\n",
    "    \n",
    "    for i,r in df.iterrows():\n",
    "        print('\\nCluster {}'.format(i))\n",
    "        print(','.join([labels[t] for t in np.argsort(r)[-n_terms:]]))"
   ]
  },
  {
   "cell_type": "code",
   "execution_count": 161,
   "metadata": {},
   "outputs": [
    {
     "name": "stdout",
     "output_type": "stream",
     "text": [
      "\n",
      "Cluster 0\n",
      "hot,sunni,day,nuclear power,power,chang,storm,nuclear,weather,link\n",
      "\n",
      "Cluster 1\n",
      "scientist,say,new,chang,snow,climat,link,global warm,warm,global\n",
      "\n",
      "Cluster 2\n",
      "energi,chang link,world,peopl,news,new,link,climat chang,chang,climat\n"
     ]
    }
   ],
   "source": [
    "get_top_keywords(tfidf, clusters, vocab, 10)"
   ]
  },
  {
   "cell_type": "code",
   "execution_count": 169,
   "metadata": {},
   "outputs": [],
   "source": [
    "df = pd.DataFrame({'label': clusters, 'tweets': range(0,len(corpus))})"
   ]
  },
  {
   "cell_type": "code",
   "execution_count": 170,
   "metadata": {},
   "outputs": [
    {
     "name": "stdout",
     "output_type": "stream",
     "text": [
      "      label  tweets\n",
      "0         1       0\n",
      "3122      1    3122\n",
      "3125      1    3125\n",
      "3127      1    3127\n",
      "3128      1    3128\n"
     ]
    }
   ],
   "source": [
    "print(df.sort_values('label').head())"
   ]
  },
  {
   "cell_type": "code",
   "execution_count": 171,
   "metadata": {},
   "outputs": [
    {
     "data": {
      "text/plain": [
       "array([1, 3, 2])"
      ]
     },
     "execution_count": 171,
     "metadata": {},
     "output_type": "execute_result"
    }
   ],
   "source": [
    "df['label'].unique()"
   ]
  },
  {
   "cell_type": "code",
   "execution_count": 172,
   "metadata": {},
   "outputs": [
    {
     "data": {
      "text/plain": [
       "1    2529\n",
       "3    2186\n",
       "2    1304\n",
       "Name: label, dtype: int64"
      ]
     },
     "execution_count": 172,
     "metadata": {},
     "output_type": "execute_result"
    }
   ],
   "source": [
    "df['label'].value_counts(ascending = False)"
   ]
  },
  {
   "cell_type": "markdown",
   "metadata": {},
   "source": [
    "### check out the group with the least posts"
   ]
  },
  {
   "cell_type": "code",
   "execution_count": 175,
   "metadata": {},
   "outputs": [],
   "source": [
    "index = list(df[df['label']==1]['tweets'])"
   ]
  },
  {
   "cell_type": "code",
   "execution_count": 176,
   "metadata": {},
   "outputs": [
    {
     "data": {
      "text/plain": [
       "0       climat chang voic civil societi loud clear coc...\n",
       "1       laist protest take valero initi would chang ca...\n",
       "6       assum site legit explain connect call global w...\n",
       "7       author nikola kozloff rain amazon south americ...\n",
       "8       acid ocean worsen expert warn climat chang msn...\n",
       "                              ...                        \n",
       "7263            usa week climat chang polici updat april \n",
       "7269                              polit climat chang via \n",
       "7277    extrem weather across globe due strong el nino...\n",
       "7278    tackl climat chang must achiev bold strategi y...\n",
       "7279    climat chang fraud global warm balanc quot say...\n",
       "Length: 2529, dtype: object"
      ]
     },
     "execution_count": 176,
     "metadata": {},
     "output_type": "execute_result"
    }
   ],
   "source": [
    "corpus.iloc[index]"
   ]
  },
  {
   "cell_type": "code",
   "execution_count": 178,
   "metadata": {},
   "outputs": [],
   "source": [
    "index = list(df[df['label']==3]['tweets'])"
   ]
  },
  {
   "cell_type": "code",
   "execution_count": 179,
   "metadata": {},
   "outputs": [
    {
     "data": {
      "text/plain": [
       "2       thank least rio tinto preston chiaro posit sta...\n",
       "3                   check video georg carlin global warm \n",
       "4             global warm rebecca terrel newamerican com \n",
       "5       scientif communiti scame global green gov warm...\n",
       "10      great unravel profession global warm alarmist ...\n",
       "                              ...                        \n",
       "7268     plz king coal big ag tri outlaw global warm rep \n",
       "7270    obama doe minut earth day video fail mention g...\n",
       "7272    preliminari analysi suggest natur gas could co...\n",
       "7273    scam anoth warmist rescu arctic cold global wa...\n",
       "7276    go sinc yet global warm continu depreci earth ...\n",
       "Length: 2186, dtype: object"
      ]
     },
     "execution_count": 179,
     "metadata": {},
     "output_type": "execute_result"
    }
   ],
   "source": [
    "corpus.iloc[index]"
   ]
  },
  {
   "cell_type": "code",
   "execution_count": null,
   "metadata": {},
   "outputs": [],
   "source": []
  }
 ],
 "metadata": {
  "kernelspec": {
   "display_name": "Python 3",
   "language": "python",
   "name": "python3"
  },
  "language_info": {
   "codemirror_mode": {
    "name": "ipython",
    "version": 3
   },
   "file_extension": ".py",
   "mimetype": "text/x-python",
   "name": "python",
   "nbconvert_exporter": "python",
   "pygments_lexer": "ipython3",
   "version": "3.8.2"
  }
 },
 "nbformat": 4,
 "nbformat_minor": 4
}
